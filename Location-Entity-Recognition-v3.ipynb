{
 "cells": [
  {
   "cell_type": "markdown",
   "metadata": {},
   "source": [
    "## Location Entity Recognition using spaCy\n",
    "\n",
    "#### Non-Default Libraries Used\n",
    "* spaCy - https://spacy.io/\n",
    "* Wordcloud - https://github.com/amueller/word_cloud\n",
    "* Geocoder - https://geocoder.readthedocs.io/index.html\n",
    "* Folium - https://github.com/python-visualization/folium\n",
    "\n",
    "---\n",
    "<div style=\"text-align: right\"> Joshua Been 05/10/2019 </div>\n",
    "<div style=\"text-align: right\"> version 3 </div>"
   ]
  },
  {
   "cell_type": "markdown",
   "metadata": {},
   "source": [
    "#### Step 1 - Install dependencies\n",
    "##### only needs to be done once per machine"
   ]
  },
  {
   "cell_type": "code",
   "execution_count": null,
   "metadata": {},
   "outputs": [],
   "source": [
    "# Install spaCy\n",
    "!pip install --user spacy\n",
    "\n",
    "# Download spaCy English Package\n",
    "!python -m spacy download en_core_web_sm\n",
    "\n",
    "# Install amueller's Wordcloud library (https://github.com/amueller/word_cloud)\n",
    "!pip install --user --no-warn-script-location wordcloud\n",
    "\n",
    "# Install Geocoder (https://geocoder.readthedocs.io/index.html)\n",
    "!pip install --user geocoder\n",
    "\n",
    "# Install Folium to create maps (https://github.com/python-visualization/folium)\n",
    "!pip install --user folium\n",
    "\n",
    "print('\\n >> Completed!')"
   ]
  },
  {
   "cell_type": "markdown",
   "metadata": {},
   "source": [
    "#### Step 2 - Import Libraries"
   ]
  },
  {
   "cell_type": "code",
   "execution_count": null,
   "metadata": {},
   "outputs": [],
   "source": [
    "import spacy, en_core_web_sm, operator, geocoder, folium\n",
    "from spacy import displacy\n",
    "from collections import Counter\n",
    "from wordcloud import WordCloud\n",
    "import matplotlib.pyplot as plt\n",
    "nlp = en_core_web_sm.load()\n",
    "print('\\n >> Completed!')"
   ]
  },
  {
   "cell_type": "markdown",
   "metadata": {},
   "source": [
    "#### Step 3 - Browse for File\n",
    "##### Ensure file is in project directory\n",
    "##### Ensure file is saved as ANSI"
   ]
  },
  {
   "cell_type": "code",
   "execution_count": null,
   "metadata": {},
   "outputs": [],
   "source": [
    "# Adjust file below\n",
    "f=open('SOMEFILE-GOES-HERE.txt', 'r')\n",
    "\n",
    "test_text=f.read()\n",
    "f.close()\n",
    "\n",
    "print('\\n >> Completed!')"
   ]
  },
  {
   "cell_type": "markdown",
   "metadata": {},
   "source": [
    "#### Step 4 -Frequencies for All Entities\n",
    "\n",
    "https://spacy.io/api/annotation#section-named-entities"
   ]
  },
  {
   "cell_type": "code",
   "execution_count": null,
   "metadata": {},
   "outputs": [],
   "source": [
    "# This will hold cumulative entities from all sections\n",
    "full_entities=[]\n",
    "full_labels=[]\n",
    "full_locations=[]\n",
    "start = 0\n",
    "i = 1\n",
    "# spaCy can process up to 1,000,000 characters at once, so we increment at this max count\n",
    "increment = 1000000\n",
    "while start<len(test_text):\n",
    "    # reassign max increment if greater than number of remaining characters\n",
    "    if increment>len(test_text):\n",
    "        increment=len(test_text)\n",
    "    print(' >> Section #',i,'(character',start,'-',increment,'/',len(test_text),')')\n",
    "    # Pass batch of characters to nlp processor\n",
    "    docs = nlp(test_text[start:increment])\n",
    "    # Create list of tuples containing text and entity label\n",
    "    entities = [(X.text, X.label_) for X in docs.ents]\n",
    "    # Store each list of tuples in cumulative list\n",
    "    full_entities=full_entities+entities\n",
    "    # Create list of labels\n",
    "    labels = [x.label_ for x in docs.ents]\n",
    "    # Store each list of labels in cumulative list\n",
    "    full_labels=full_labels+labels\n",
    "    print(len(entities), 'entities found')\n",
    "    print(Counter(labels),'\\n______\\n')\n",
    "    start+=1000000\n",
    "    increment+=1000000\n",
    "    i+=1\n",
    "if i>2:\n",
    "    print('\\n >> Cumulative Results','\\n',len(full_entities),'entities found\\n',Counter(full_labels))\n",
    "\n",
    "# Cumulative Frequencies of GPE and LOC Locations\n",
    "print('Cumulative Frequencies of GPE and LOC Locations')\n",
    "locations=[]\n",
    "locations_list=[]\n",
    "for entity in full_entities:\n",
    "    if entity[1]=='GPE' or entity[1]=='LOC':\n",
    "        locations.append(entity)\n",
    "        locations_list.append(entity[0])\n",
    "locations_d=Counter(locations_list)\n",
    "display(Counter(locations).most_common())\n",
    "    \n",
    "print('\\n >> Completed!')"
   ]
  },
  {
   "cell_type": "markdown",
   "metadata": {},
   "source": [
    "#### Step 5 - View Entities Highlighted In-Line\n",
    "#### PLEASE NOTE the options line"
   ]
  },
  {
   "cell_type": "code",
   "execution_count": null,
   "metadata": {},
   "outputs": [],
   "source": [
    "options={'ents':['GPE','LOC']}\n",
    "start = 0\n",
    "i = 1\n",
    "increment = 1000000\n",
    "while start<len(test_text):\n",
    "    print(' >> Section #',i,'(character',start,'-',increment,'/',len(test_text),')')\n",
    "    tmp_text = test_text[start:increment]\n",
    "    \n",
    "    # displaCy is spaCy's primary visualization method\n",
    "    ############################################\n",
    "    # To view only location entities, the following line should be:\n",
    "    # displacy.render(nlp(tmp_text), jupyter=True, style='ent', options=options)\n",
    "    #\n",
    "    # To view all entities, the line should be:\n",
    "    # displacy.render(nlp(tmp_text), jupyter=True, style='ent')\n",
    "    ############################################\n",
    "    displacy.render(nlp(tmp_text), jupyter=True, style='ent')\n",
    "    \n",
    "    start+=1000000\n",
    "    increment+=1000000\n",
    "    if increment>len(test_text):\n",
    "        increment=len(test_text)\n",
    "    i+=1"
   ]
  },
  {
   "cell_type": "markdown",
   "metadata": {},
   "source": [
    "#### Step 6 - Visualizations: Map, Wordcloud, Bar chart\n",
    "\n",
    "#### Required: Bing Maps API key (free)\n",
    "\n",
    "* Go to http://www.bingmapsportal.com/, and sign in with your Microsoft account (or create a new account).\n",
    "* Click on \"Create or view keys\" in the sidebar.\n",
    "* Enter your name or company as the Application name, and select \"Basic\" as your key type and \"Public website\" as the application type.\n",
    "* Your new key will appear at the bottom of the \"Create or view keys\" page; it will be 64 characters long and will probably begin with \"A\"."
   ]
  },
  {
   "cell_type": "code",
   "execution_count": null,
   "metadata": {
    "scrolled": false
   },
   "outputs": [],
   "source": [
    "# Enter Bing Maps Key Below\n",
    "bkey=''\n",
    "\n",
    "m = folium.Map(\n",
    "    location=[27.4, -40.3],\n",
    "    zoom_start=2,\n",
    "    tiles='Stamen Toner'\n",
    ")\n",
    "\n",
    "\n",
    "for key, value in locations_d.items():\n",
    "    try:\n",
    "        if value>10:     # minimum frequency for mapping\n",
    "            g = geocoder.bing(key, key=bkey)\n",
    "            if g.raw['confidence']=='High':   # confidence is high, medium, low\n",
    "                folium.CircleMarker(\n",
    "                    location=[g.lat, g.lng],\n",
    "                        radius=value/2,     # Can decrease or increase sizes by /n or *n\n",
    "                        popup=key,\n",
    "                        tooltip=key,\n",
    "                        color='#154734',\n",
    "                        fill=True,\n",
    "                        fill_color='#154734'\n",
    "                    ).add_to(m)\n",
    "    except:\n",
    "        pass\n",
    "\n",
    "display(m)\n",
    "m.save('index.html')\n",
    "\n",
    "\n",
    "# Wordcloud\n",
    "# Collocations set to False disables two-word frequencies\n",
    "wordcloud = WordCloud()\n",
    "wordcloud.generate_from_frequencies(frequencies=locations_d)\n",
    "\n",
    "# Display the generated image:\n",
    "plt.figure( figsize=(20,10), facecolor='k')\n",
    "plt.imshow(wordcloud, interpolation='bilinear')\n",
    "plt.tight_layout(pad=0)\n",
    "plt.axis(\"off\")\n",
    "\n",
    "\n",
    "\n",
    "# Bar Chart\n",
    "# Adjust number as needed\n",
    "Number_Top_Locations=10\n",
    "\n",
    "# Sort by frequency into tuple\n",
    "locations_d=dict((x, y) for x, y in Counter(locations_list).most_common())\n",
    "\n",
    "# Convert top tuple entries back to dictionary\n",
    "top_locations = {k: locations_d[k] for k in list(locations_d)[:Number_Top_Locations]}\n",
    "\n",
    "plt.figure(num=None, figsize=(8, 6), dpi=150, facecolor='w', edgecolor='k')\n",
    "plt.bar(range(len(top_locations)), list(top_locations.values()), align='center')\n",
    "plt.xticks(range(len(top_locations)), list(top_locations.keys()), rotation=75)\n",
    "\n",
    "plt.show()"
   ]
  },
  {
   "cell_type": "code",
   "execution_count": null,
   "metadata": {},
   "outputs": [],
   "source": []
  }
 ],
 "metadata": {
  "kernelspec": {
   "display_name": "Python 3",
   "language": "python",
   "name": "python3"
  },
  "language_info": {
   "codemirror_mode": {
    "name": "ipython",
    "version": 3
   },
   "file_extension": ".py",
   "mimetype": "text/x-python",
   "name": "python",
   "nbconvert_exporter": "python",
   "pygments_lexer": "ipython3",
   "version": "3.7.3"
  }
 },
 "nbformat": 4,
 "nbformat_minor": 2
}
